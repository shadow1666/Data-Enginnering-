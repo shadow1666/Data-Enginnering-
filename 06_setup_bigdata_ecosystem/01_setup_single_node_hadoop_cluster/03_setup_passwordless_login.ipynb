{
 "cells": [
  {
   "cell_type": "markdown",
   "metadata": {},
   "source": [
    "## Setup Password less login\n",
    "\n",
    "Let us see how to setup password less login with in the host on which we are going to setup single node Hadoop Cluster.\n",
    "* We need password less login to run the scripts to start services such as HDFS, YARN etc.\n",
    "* We can generate public and private keys using `ssh-keygen` command. It will generate 2 files.\n",
    "  * **~/.ssh/id_rsa**\n",
    "  * **~/.ssh/id_rsa.pub**\n",
    "* We need to run this command to append contents of **~/.ssh/id_rsa.pub** to **~/.ssh/authorized_keys**.\n",
    "\n",
    "```shell\n",
    "cat ~/.ssh/id_rsa.pub >> ~/.ssh/authorized_keys\n",
    "```\n",
    "\n",
    "* We can validate by running `ssh localhost`. It will login using the same user with in the host. We can use `exit` to come back to the previous session on the same host."
   ]
  },
  {
   "cell_type": "code",
   "execution_count": null,
   "metadata": {},
   "outputs": [],
   "source": []
  }
 ],
 "metadata": {
  "kernelspec": {
   "display_name": "Pyspark 2",
   "language": "python",
   "name": "pyspark2"
  },
  "language_info": {
   "codemirror_mode": {
    "name": "ipython",
    "version": 3
   },
   "file_extension": ".py",
   "mimetype": "text/x-python",
   "name": "python",
   "nbconvert_exporter": "python",
   "pygments_lexer": "ipython3",
   "version": "3.6.12"
  }
 },
 "nbformat": 4,
 "nbformat_minor": 4
}
