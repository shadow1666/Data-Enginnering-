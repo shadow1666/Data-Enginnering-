{
 "cells": [
  {
   "cell_type": "markdown",
   "metadata": {},
   "source": [
    "## Setup Data Sets for Practice\n",
    "\n",
    "Let us setup datasets on the node where we want to setup single node Hadoop and Spark Cluster.\n",
    "* Download the data set from GitHub\n",
    "\n",
    "```shell\n",
    "git clone https://github.com/dgadiraju/retail_db.git\n",
    "```\n",
    "\n",
    "* Create **/data** folder and copy downloaded retail_db data set to /data folder.\n",
    "\n",
    "```shell\n",
    "sudo rm -rf /data/retail_db\n",
    "sudo mkdir -p /data/retail_db\n",
    "\n",
    "sudo cp -rf retail_db/departments /data/retail_db\n",
    "sudo cp -rf retail_db/categories /data/retail_db\n",
    "sudo cp -rf retail_db/products /data/retail_db\n",
    "sudo cp -rf retail_db/orders /data/retail_db\n",
    "sudo cp -rf retail_db/order_items /data/retail_db\n",
    "sudo cp -rf retail_db/customers /data/retail_db\n",
    "```\n",
    "\n",
    "* Create HDFS directory by name **/public** and copy retail_db from local /data folder to HDFS /public folder.\n",
    "\n",
    "```shell\n",
    "hdfs dfs -mkdir -p /public\n",
    "hdfs dfs -put /data/retail_db /public\n",
    "hdfs dfs -ls /public/retail_db/orders\n",
    "hdfs dfs -find /public/retail_db\n",
    "```"
   ]
  },
  {
   "cell_type": "code",
   "execution_count": null,
   "metadata": {},
   "outputs": [],
   "source": []
  }
 ],
 "metadata": {
  "kernelspec": {
   "display_name": "Pyspark 2",
   "language": "python",
   "name": "pyspark2"
  },
  "language_info": {
   "codemirror_mode": {
    "name": "ipython",
    "version": 3
   },
   "file_extension": ".py",
   "mimetype": "text/x-python",
   "name": "python",
   "nbconvert_exporter": "python",
   "pygments_lexer": "ipython3",
   "version": "3.6.12"
  }
 },
 "nbformat": 4,
 "nbformat_minor": 4
}
