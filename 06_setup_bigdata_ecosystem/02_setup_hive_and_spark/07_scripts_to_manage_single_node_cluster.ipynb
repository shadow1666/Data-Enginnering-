{
 "cells": [
  {
   "cell_type": "markdown",
   "metadata": {},
   "source": [
    "## Scripts to Manage Single Node Cluster\n",
    "\n",
    "Let us go ahead and create baseline scripts to Manage Single Node Cluster.\n",
    "\n",
    "* Create a file by name **stop_all.sh** to stop YARN and then HDFS.\n",
    "\n",
    "```shell\n",
    "stop-yarn.sh\n",
    "stop-dfs.sh\n",
    "jps\n",
    "```\n",
    "\n",
    "* Create a file by name **start_all.sh** to start YARN, HDFS and Docker container which contain Postgres Database Server to support services such as Hive.\n",
    "\n",
    "```shell\n",
    "start-dfs.sh\n",
    "start-yarn.sh\n",
    "docker start cluster_util_db\n",
    "jps\n",
    "docker ps\n",
    "```\n",
    "\n",
    "* Before shutting down the Ubuntu 18.04 VM using GCP Web Console, you can run the script to stop all the services related to single node cluster.\n",
    "\n",
    "```shell\n",
    "source stop_all.sh\n",
    "```\n",
    "\n",
    "* Once the Ubuntu 18.04 VM is started using GCP Web Console, you can run the script to start all the services related to single node cluster.\n",
    "\n",
    "```shell\n",
    "source start_all.sh\n",
    "```"
   ]
  },
  {
   "cell_type": "code",
   "execution_count": null,
   "metadata": {},
   "outputs": [],
   "source": []
  }
 ],
 "metadata": {
  "kernelspec": {
   "display_name": "Pyspark 2",
   "language": "python",
   "name": "pyspark2"
  },
  "language_info": {
   "codemirror_mode": {
    "name": "ipython",
    "version": 3
   },
   "file_extension": ".py",
   "mimetype": "text/x-python",
   "name": "python",
   "nbconvert_exporter": "python",
   "pygments_lexer": "ipython3",
   "version": "3.6.12"
  }
 },
 "nbformat": 4,
 "nbformat_minor": 4
}
