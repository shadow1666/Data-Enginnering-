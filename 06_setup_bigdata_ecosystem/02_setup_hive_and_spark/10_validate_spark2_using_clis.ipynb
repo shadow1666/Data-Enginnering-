{
 "cells": [
  {
   "cell_type": "markdown",
   "metadata": {},
   "source": [
    "## Validate Spark 2 using CLIs\n",
    "\n",
    "Let us validate Spark 2.4.7 with Scala, Python as well as SQL using CLIs. We will also make sure that Spark 2.4.7 is integrated with Hive by running some queries against the databases and tables that are created using Hive earlier.\n",
    "\n",
    "* Validate Spark using Scala by running `/opt/spark2/bin/spark-shell --master yarn --conf spark.ui.port=0`.\n",
    "* Validate Spark using Python by running `/opt/spark2/bin/pyspark --master yarn --conf spark.ui.port=0`. \n",
    "* Make sure to export PYSPARK_PYTHON to point to Python 3 if the default version is 2.7.\n",
    "\n",
    "```shell\n",
    "export PYSPARK_PYTHON=python3\n",
    "/opt/spark2/bin/pyspark --master yarn --conf spark.ui.port=0\n",
    "```\n",
    "\n",
    "* You can update **.profile** with `export PYSPARK_PYTHON=python3` so that we don't need to export in the session while launching `pyspark`.\n",
    "* Validate Spark SQL by running `/opt/spark2/bin/spark-sql --master yarn --conf spark.ui.port=0`.\n",
    "* You can also validate whether you can access Hive Metastore tables and databases using Spark.\n",
    "\n",
    "```python\n",
    "spark.sql('SHOW databases').show()\n",
    "spark.sql('USE retail_db')\n",
    "\n",
    "spark.sql('SHOW tables').show()\n",
    "spark.sql('SELECT * FROM orders').show()\n",
    "spark.sql('SELECT count(1) FROM orders').show()\n",
    "\n",
    "exit()\n",
    "```"
   ]
  },
  {
   "cell_type": "code",
   "execution_count": null,
   "metadata": {},
   "outputs": [],
   "source": []
  }
 ],
 "metadata": {
  "kernelspec": {
   "display_name": "Pyspark 2",
   "language": "python",
   "name": "pyspark2"
  },
  "language_info": {
   "codemirror_mode": {
    "name": "ipython",
    "version": 3
   },
   "file_extension": ".py",
   "mimetype": "text/x-python",
   "name": "python",
   "nbconvert_exporter": "python",
   "pygments_lexer": "ipython3",
   "version": "3.6.12"
  }
 },
 "nbformat": 4,
 "nbformat_minor": 4
}
