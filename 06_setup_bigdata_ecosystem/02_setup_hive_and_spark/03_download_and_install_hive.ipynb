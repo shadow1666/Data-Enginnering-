{
 "cells": [
  {
   "cell_type": "markdown",
   "metadata": {},
   "source": [
    "## Download and Install Hive\n",
    "\n",
    "Let us Download and Install Hive on top of Hadoop. We will configure Hive Components and then start and validate as part of subsequent topics in this section.\n",
    "\n",
    "* We can download Hive binaries using the mirrors in this [link](http://www.apache.org/dyn/closer.cgi/hive/). \n",
    "* Here are the instructions to get link.\n",
    "  * Visit above page.\n",
    "  * Click on one of the mirror links. It will redirect you to file browser.\n",
    "  * Click on appropriate versions. You will see links for the tar balls.\n",
    "  * Right click on the relevant tar ball and click on copy link. Make sure to choose link for binary rather than source.\n",
    "* Here is the wget command for your reference once you get the link.\n",
    "\n",
    "```shell\n",
    "wget https://mirrors.ocf.berkeley.edu/apache/hive/hive-3.1.2/apache-hive-3.1.2-bin.tar.gz\n",
    "```\n",
    "\n",
    "* Untar and unzip the tar ball that is downloaded. You might have to change the file name in case if you are dealing with different version of Hive.\n",
    "\n",
    "```shell\n",
    "tar xzf apache-hive-3.1.2-bin.tar.gz\n",
    "```\n",
    "\n",
    "* Delete the tar ball and move the newly created folder to /opt.\n",
    "\n",
    "```shell\n",
    "rm apache-hive-3.1.2-bin.tar.gz\n",
    "sudo mv -f apache-hive-3.1.2-bin /opt\n",
    "sudo ln -s /opt/apache-hive-3.1.2-bin /opt/hive\n",
    "```"
   ]
  },
  {
   "cell_type": "code",
   "execution_count": null,
   "metadata": {},
   "outputs": [],
   "source": []
  }
 ],
 "metadata": {
  "kernelspec": {
   "display_name": "Pyspark 2",
   "language": "python",
   "name": "pyspark2"
  },
  "language_info": {
   "codemirror_mode": {
    "name": "ipython",
    "version": 3
   },
   "file_extension": ".py",
   "mimetype": "text/x-python",
   "name": "python",
   "nbconvert_exporter": "python",
   "pygments_lexer": "ipython3",
   "version": "3.6.12"
  }
 },
 "nbformat": 4,
 "nbformat_minor": 4
}
