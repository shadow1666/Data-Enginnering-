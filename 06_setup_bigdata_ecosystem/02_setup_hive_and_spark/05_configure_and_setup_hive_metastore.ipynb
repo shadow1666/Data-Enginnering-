{
 "cells": [
  {
   "cell_type": "markdown",
   "metadata": {},
   "source": [
    "## Configure and Setup Hive Metastore\n",
    "\n",
    "Let us first configure Hive metastore and then initialize schema for Hive Metastore using Postgres.\n",
    "\n",
    "* We need to set following properties in **/opt/hive/conf/hive-site.xml**.\n",
    "\n",
    "```xml\n",
    "<configuration>\n",
    "  <property>\n",
    "    <name>javax.jdo.option.ConnectionURL</name>\n",
    "    <value>jdbc:postgresql://localhost:6432/metastore</value>\n",
    "    <description>PostgreSQL JDBC driver connection URL</description>\n",
    "  </property>\n",
    "\n",
    "  <property>\n",
    "    <name>javax.jdo.option.ConnectionDriverName</name>\n",
    "    <value>org.postgresql.Driver</value>\n",
    "    <description>PostgreSQL metastore driver class name</description>\n",
    "  </property>\n",
    "\n",
    "  <property>\n",
    "    <name>javax.jdo.option.ConnectionUserName</name>\n",
    "    <value>hive</value>\n",
    "    <description>the username for the DB instance</description>\n",
    "  </property>\n",
    "\n",
    "  <property>\n",
    "    <name>javax.jdo.option.ConnectionPassword</name>\n",
    "    <value>itversity</value>\n",
    "    <description>the password for the DB instance</description>\n",
    "  </property>\n",
    "</configuration>\n",
    "```\n",
    "\n",
    "* We also need to overwrite **guava jar** in hive lib folder with the one from hadoop libraries.\n",
    "\n",
    "```shell\n",
    "rm /opt/hive/lib/guava-19.0.jar\n",
    "cp /opt/hadoop/share/hadoop/hdfs/lib/guava-27.0-jre.jar /opt/hive/lib/\n",
    "```\n",
    "\n",
    "* Now we should be able to initialize Hive Metastore Database using Postgres.\n",
    "\n",
    "```shell\n",
    "schematool -dbType postgres -initSchema\n",
    "```\n",
    "\n",
    "* We can validate whether the required Hive Metastore tables are created or not by listing the tables in Postgres database.\n",
    "\n",
    "```shell\n",
    "docker exec \\\n",
    "    -it cluster_util_db \\\n",
    "    psql -U postgres \\\n",
    "    -d metastore\n",
    "\n",
    "\\d\n",
    "\n",
    "\\q\n",
    "```"
   ]
  },
  {
   "cell_type": "code",
   "execution_count": null,
   "metadata": {},
   "outputs": [],
   "source": []
  }
 ],
 "metadata": {
  "kernelspec": {
   "display_name": "Pyspark 2",
   "language": "python",
   "name": "pyspark2"
  },
  "language_info": {
   "codemirror_mode": {
    "name": "ipython",
    "version": 3
   },
   "file_extension": ".py",
   "mimetype": "text/x-python",
   "name": "python",
   "nbconvert_exporter": "python",
   "pygments_lexer": "ipython3",
   "version": "3.6.12"
  }
 },
 "nbformat": 4,
 "nbformat_minor": 4
}
