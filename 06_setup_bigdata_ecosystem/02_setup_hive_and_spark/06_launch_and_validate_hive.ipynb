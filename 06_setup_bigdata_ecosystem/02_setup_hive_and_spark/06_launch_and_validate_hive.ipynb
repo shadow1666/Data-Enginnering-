{
 "cells": [
  {
   "cell_type": "markdown",
   "metadata": {},
   "source": [
    "## Launch and Validate Hive\n",
    "\n",
    "Let us validate hive by launching Hive CLI and then by running some valid Hive Commands.\n",
    "\n",
    "* Launch Hive CLI\n",
    "* Create a database and a table\n",
    "* Insert data into the table\n",
    "* Query data from the table\n",
    "\n",
    "```sql\n",
    "CREATE DATABASE retail_db;\n",
    "USE retail_db;\n",
    "\n",
    "CREATE TABLE orders (\n",
    "    order_id INT,\n",
    "    order_date STRING,\n",
    "    order_customer_id INT,\n",
    "    order_status STRING\n",
    ") ROW FORMAT DELIMITED FIELDS TERMINATED BY ',';\n",
    "\n",
    "LOAD DATA LOCAL INPATH '/data/retail_db/orders' INTO TABLE orders;\n",
    "\n",
    "SELECT * FROM orders LIMIT 10;\n",
    "\n",
    "SELECT count(1) FROM orders;\n",
    "\n",
    "exit;\n",
    "```"
   ]
  },
  {
   "cell_type": "code",
   "execution_count": null,
   "metadata": {},
   "outputs": [],
   "source": []
  }
 ],
 "metadata": {
  "kernelspec": {
   "display_name": "Pyspark 2",
   "language": "python",
   "name": "pyspark2"
  },
  "language_info": {
   "codemirror_mode": {
    "name": "ipython",
    "version": 3
   },
   "file_extension": ".py",
   "mimetype": "text/x-python",
   "name": "python",
   "nbconvert_exporter": "python",
   "pygments_lexer": "ipython3",
   "version": "3.6.12"
  }
 },
 "nbformat": 4,
 "nbformat_minor": 4
}
