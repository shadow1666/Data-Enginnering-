{
 "cells": [
  {
   "cell_type": "markdown",
   "metadata": {},
   "source": [
    "## Download and Install Spark 2\n",
    "\n",
    "Let us download and install Spark 2 as part of our single node Hadoop and Spark Cluster.\n",
    "\n",
    "* Go to [Spark Downloads](https://spark.apache.org/downloads.html) page.\n",
    "* Make sure to choose the following.\n",
    "  * Spark Release - 2.4.7\n",
    "  * Choose Spark with Hadoop 2.7.\n",
    "* Click on the link generated to go to the mirrors page. Choose one of the links and use `wget` command to download. Here is the command for reference.\n",
    "\n",
    "```shell\n",
    "wget https://downloads.apache.org/spark/spark-2.4.7/spark-2.4.7-bin-hadoop2.7.tgz\n",
    "```\n",
    "\n",
    "* Untar and unzip the downloaded compressed tar ball and then move it to **/opt**. Also make sure ownership is changed to the user logged in as well as soft link is created.\n",
    "\n",
    "```shell\n",
    "tar xzf spark-2.4.7-bin-hadoop2.7.tgz\n",
    "rm spark-2.4.7-bin-hadoop2.7.tgz\n",
    "sudo mv -f spark-2.4.7-bin-hadoop2.7 /opt\n",
    "sudo ln -s spark-2.4.7-bin-hadoop2.7 /opt/spark2\n",
    "```\n",
    "\n",
    "* As we will be having 2 versions of Spark, we will not set any environment variables as part of .profile. We will create custom scripts later so that we don't need to use full qualified paths."
   ]
  },
  {
   "cell_type": "code",
   "execution_count": null,
   "metadata": {},
   "outputs": [],
   "source": []
  }
 ],
 "metadata": {
  "kernelspec": {
   "display_name": "Pyspark 2",
   "language": "python",
   "name": "pyspark2"
  },
  "language_info": {
   "codemirror_mode": {
    "name": "ipython",
    "version": 3
   },
   "file_extension": ".py",
   "mimetype": "text/x-python",
   "name": "python",
   "nbconvert_exporter": "python",
   "pygments_lexer": "ipython3",
   "version": "3.6.12"
  }
 },
 "nbformat": 4,
 "nbformat_minor": 4
}
