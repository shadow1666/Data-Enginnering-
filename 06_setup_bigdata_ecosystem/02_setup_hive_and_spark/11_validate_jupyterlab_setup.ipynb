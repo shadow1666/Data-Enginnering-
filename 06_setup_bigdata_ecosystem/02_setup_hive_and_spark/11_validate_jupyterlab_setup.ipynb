{
 "cells": [
  {
   "cell_type": "markdown",
   "metadata": {},
   "source": [
    "## Validate Jupyter Lab Setup\n",
    "\n",
    "As part of this topic we will validate whether jupyter lab is setup properly or not. If not, we will setup and then as part of subsequent topics we will see how we can integrate Pyspark with Jupyter Lab.\n",
    "\n",
    "* Confirm whether virtual environment using Python 3 is created or not. If not, make sure to create virtual environment.\n",
    "\n",
    "```shell\n",
    "cd\n",
    "python3 -m venv dl-venv\n",
    "source dl-venv/bin/activate\n",
    "```\n",
    "\n",
    "* Validate whether jupyter lab is setup or not. You can activate virtual environment and run `pip list` command to review the libraries installed as part of virtual environment.\n",
    "\n",
    "```shell\n",
    "pip list|grep jupyter\n",
    "\n",
    "# If Jupyter Lab is not listed install by running this command in the virtual environment.\n",
    "pip install jupyterlab\n",
    "```\n",
    "\n",
    "* Start the jupyterlab as daemon and make sure that port is opened in GCP Firewall. Make sure only ports related to your system are added as part of the firewall rules."
   ]
  },
  {
   "cell_type": "code",
   "execution_count": null,
   "metadata": {},
   "outputs": [],
   "source": []
  }
 ],
 "metadata": {
  "kernelspec": {
   "display_name": "Pyspark 2",
   "language": "python",
   "name": "pyspark2"
  },
  "language_info": {
   "codemirror_mode": {
    "name": "ipython",
    "version": 3
   },
   "file_extension": ".py",
   "mimetype": "text/x-python",
   "name": "python",
   "nbconvert_exporter": "python",
   "pygments_lexer": "ipython3",
   "version": "3.6.12"
  }
 },
 "nbformat": 4,
 "nbformat_minor": 4
}
